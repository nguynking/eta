{
 "cells": [
  {
   "cell_type": "code",
   "execution_count": 31,
   "id": "7a1fc329",
   "metadata": {},
   "outputs": [],
   "source": [
    "import duckdb\n",
    "import torch\n",
    "import torch.nn.functional as F\n",
    "import torch_frame as tf\n",
    "from torch_frame.data import Dataset\n",
    "from torch_frame.utils import infer_df_stype\n",
    "from torch_frame.data.loader import DataLoader\n",
    "from torch_frame.nn.encoder import EmbeddingEncoder, LinearEncoder\n",
    "from torch_frame.nn.models import FTTransformer   # any backbone works\n",
    "\n",
    "# -----------------------------------------------------------\n",
    "# 1.  Read & sample exactly the same way you did\n",
    "# -----------------------------------------------------------\n",
    "file_path = \"../data/parcel_tracking_output_data.parquet\"\n",
    "df = duckdb.sql(f\"\"\"\n",
    "    SELECT * FROM '{file_path}'\n",
    "    USING SAMPLE reservoir(100 ROWS)\n",
    "    REPEATABLE (100)\n",
    "\"\"\").df()\n",
    "\n",
    "# Targets ----------------------------------------------------\n",
    "ETA_COL   = \"total_hours_from_receiving_to_last_success_delivery\"\n",
    "POD_COL   = \"is_successful_delivery\"\n",
    "\n",
    "# Cast targets to numeric\n",
    "# df[ETA_COL] = df[ETA_COL].astype(float)\n",
    "# df[POD_COL] = df[POD_COL].astype(int)\n",
    "df.drop(columns=[\"customer_id\", \"parcel_id\"], inplace=True)"
   ]
  },
  {
   "cell_type": "code",
   "execution_count": null,
   "id": "ac6aa1c4",
   "metadata": {},
   "outputs": [
    {
     "name": "stdout",
     "output_type": "stream",
     "text": [
      "24\n",
      "24\n"
     ]
    }
   ],
   "source": [
    "eta_df = df.drop(columns=[POD_COL])\n",
    "pod_df = df.drop(columns=[ETA_COL])\n",
    "\n",
    "# 2. Build two Dataset objects (one per task)\n",
    "eta_col_to_stype = infer_df_stype(eta_df)\n",
    "eta_col_to_stype[ETA_COL] = tf.numerical\n",
    "\n",
    "pod_col_to_stype = infer_df_stype(pod_df)\n",
    "pod_col_to_stype[POD_COL] = tf.categorical\n",
    "\n",
    "eta_ds = Dataset(eta_df, col_to_stype=eta_col_to_stype, target_col=ETA_COL)\n",
    "pod_ds = Dataset(pod_df, col_to_stype=pod_col_to_stype, target_col=POD_COL)"
   ]
  },
  {
   "cell_type": "code",
   "execution_count": 33,
   "id": "d633e7d5",
   "metadata": {},
   "outputs": [
    {
     "data": {
      "text/plain": [
       "Dataset()"
      ]
     },
     "execution_count": 33,
     "metadata": {},
     "output_type": "execute_result"
    }
   ],
   "source": [
    "# Materialise once so we can reuse stats & mappings\n",
    "eta_ds.materialize()              # gives .tensor_frame, .col_stats\n",
    "pod_ds.materialize()"
   ]
  },
  {
   "cell_type": "code",
   "execution_count": 34,
   "id": "8da99632",
   "metadata": {},
   "outputs": [],
   "source": [
    "# Split ------------------------------------------------------\n",
    "train_eta = eta_ds[:0.8]    # same slice trick as in quick‑tour :contentReference[oaicite:3]{index=3}\n",
    "val_eta   = eta_ds[0.8:]\n",
    "train_pod = pod_ds[:0.8]\n",
    "val_pod   = pod_ds[0.8:]\n",
    "\n",
    "# 3.  Mini‑batch loaders\n",
    "BATCH = 5\n",
    "train_eta_loader = DataLoader(train_eta, batch_size=BATCH, shuffle=True)\n",
    "val_eta_loader   = DataLoader(val_eta,   batch_size=BATCH)\n",
    "\n",
    "train_pod_loader = DataLoader(train_pod, batch_size=BATCH, shuffle=True)\n",
    "val_pod_loader   = DataLoader(val_pod,   batch_size=BATCH)"
   ]
  },
  {
   "cell_type": "code",
   "execution_count": 35,
   "id": "64b23349",
   "metadata": {},
   "outputs": [
    {
     "name": "stdout",
     "output_type": "stream",
     "text": [
      "TensorFrame(\n",
      "  num_cols=23,\n",
      "  num_rows=5,\n",
      "  categorical (5): ['Rush_hour', 'is_successful_delivery_at_first_time', 'last_delivery_datetime_is_non_working_day', 'parcel_category_id', 'received_datetime_is_non_working_day'],\n",
      "  numerical (18): ['delivery_post_office_address_latitude', 'delivery_post_office_address_longtitude', 'delivery_post_office_id', 'distance_delivery_post_office_recipient_address', 'distance_received_post_office_delivery_post_office', 'distance_received_post_office_recipient_address', 'last_delivery_datetime_day', 'last_delivery_datetime_hour', 'last_delivery_datetime_month', 'received_datetime_day', 'received_datetime_hour', 'received_datetime_month', 'received_post_office_address_latitude', 'received_post_office_address_longtitude', 'received_post_office_id', 'recipient_address_latitude', 'recipient_address_longtitude', 'total_hours_from_receiving_to_last_failed_delivery'],\n",
      "  has_target=True,\n",
      "  device='cpu',\n",
      ")\n"
     ]
    }
   ],
   "source": [
    "for batch in train_pod_loader:\n",
    "    print(batch)\n",
    "    break"
   ]
  },
  {
   "cell_type": "code",
   "execution_count": 36,
   "id": "60d64bea",
   "metadata": {},
   "outputs": [],
   "source": [
    "# 4. Common stype‑wise encoders\n",
    "stype_enc = {\n",
    "    tf.stype.categorical: EmbeddingEncoder(),\n",
    "    tf.stype.numerical:   LinearEncoder(),\n",
    "}"
   ]
  },
  {
   "cell_type": "code",
   "execution_count": 49,
   "id": "7e565cd5",
   "metadata": {},
   "outputs": [],
   "source": [
    "# 5‑A. ETA regressor  (FT‑Transformer, 1 output)\n",
    "eta_model = FTTransformer(\n",
    "    channels=32,\n",
    "    out_channels=1,\n",
    "    num_layers=3,\n",
    "    col_stats=train_eta.col_stats,\n",
    "    col_names_dict=train_eta.tensor_frame.col_names_dict,\n",
    "    stype_encoder_dict=stype_enc,\n",
    ")\n",
    "opt_eta = torch.optim.AdamW(eta_model.parameters(), lr=5e-3)"
   ]
  },
  {
   "cell_type": "code",
   "execution_count": 50,
   "id": "f20f5364",
   "metadata": {},
   "outputs": [],
   "source": [
    "# 5‑B. POD classifier (same backbone, sigmoid output)\n",
    "pod_model = FTTransformer(\n",
    "    channels=32,\n",
    "    out_channels=1,\n",
    "    num_layers=3,\n",
    "    col_stats=train_pod.col_stats,\n",
    "    col_names_dict=train_pod.tensor_frame.col_names_dict,\n",
    "    stype_encoder_dict=stype_enc,\n",
    ")\n",
    "opt_pod = torch.optim.AdamW(pod_model.parameters(), lr=1e-3)"
   ]
  },
  {
   "cell_type": "code",
   "execution_count": 51,
   "id": "dd09d216",
   "metadata": {},
   "outputs": [],
   "source": [
    "# 6. Plain PyTorch training loops (no Lightning/Rich headaches)\n",
    "def train_epoch(model, loader, optimizer, is_regression: bool):\n",
    "    model.train()\n",
    "    total = 0\n",
    "    loss_sum = 0\n",
    "    loss_history = []\n",
    "    for tf_batch in loader:\n",
    "        pred = model(tf_batch)\n",
    "        target = tf_batch.y.float()\n",
    "        loss = F.smooth_l1_loss(pred.squeeze(), target) if is_regression else F.binary_cross_entropy_with_logits(pred.squeeze(), target)\n",
    "        optimizer.zero_grad()\n",
    "        loss.backward()\n",
    "        optimizer.step()\n",
    "        loss_history.append(loss.item())\n",
    "        loss_sum += loss.item() * len(target)\n",
    "        total += len(target)\n",
    "    return loss_sum / total, loss_history"
   ]
  },
  {
   "cell_type": "code",
   "execution_count": 52,
   "id": "25290bdf",
   "metadata": {},
   "outputs": [],
   "source": [
    "# torch.manual_seed(42)\n",
    "# pod_model.train()\n",
    "# loss_history = []\n",
    "# for epoch in range(0, 50):\n",
    "#     print(\"\")\n",
    "#     print(f\"EPOCH {epoch}:\")\n",
    "#     for idx, batch in enumerate(train_pod_loader):\n",
    "#         print(batch)\n",
    "#         pred = pod_model(batch)\n",
    "#         target = batch.y.float()\n",
    "#         loss = F.smooth_l1_loss(pred.squeeze(), target) if False else F.binary_cross_entropy_with_logits(pred.squeeze(), target)\n",
    "#         opt_eta.zero_grad()\n",
    "#         loss.backward()\n",
    "#         opt_eta.step()\n",
    "#         loss_history.append(loss.item())\n",
    "#         print(f\"step {idx}: {loss.item()}\")"
   ]
  },
  {
   "cell_type": "code",
   "execution_count": 53,
   "id": "add9ca88",
   "metadata": {},
   "outputs": [
    {
     "name": "stdout",
     "output_type": "stream",
     "text": [
      "Epoch 01 | ETA MAE-ish 24.736 | POD BCE 0.581\n",
      "Epoch 02 | ETA MAE-ish 23.274 | POD BCE 0.405\n",
      "Epoch 03 | ETA MAE-ish 21.756 | POD BCE 0.373\n",
      "Epoch 04 | ETA MAE-ish 19.835 | POD BCE 0.331\n",
      "Epoch 05 | ETA MAE-ish 17.341 | POD BCE 0.270\n",
      "Epoch 06 | ETA MAE-ish 14.937 | POD BCE 0.244\n",
      "Epoch 07 | ETA MAE-ish 13.276 | POD BCE 0.174\n",
      "Epoch 08 | ETA MAE-ish 13.048 | POD BCE 0.224\n",
      "Epoch 09 | ETA MAE-ish 12.977 | POD BCE 0.166\n",
      "Epoch 10 | ETA MAE-ish 12.933 | POD BCE 0.211\n",
      "Epoch 11 | ETA MAE-ish 13.068 | POD BCE 0.137\n",
      "Epoch 12 | ETA MAE-ish 12.984 | POD BCE 0.110\n",
      "Epoch 13 | ETA MAE-ish 13.015 | POD BCE 0.104\n",
      "Epoch 14 | ETA MAE-ish 12.997 | POD BCE 0.105\n",
      "Epoch 15 | ETA MAE-ish 12.969 | POD BCE 0.080\n",
      "Epoch 16 | ETA MAE-ish 12.974 | POD BCE 0.073\n",
      "Epoch 17 | ETA MAE-ish 12.979 | POD BCE 0.066\n",
      "Epoch 18 | ETA MAE-ish 12.965 | POD BCE 0.067\n",
      "Epoch 19 | ETA MAE-ish 13.057 | POD BCE 0.063\n",
      "Epoch 20 | ETA MAE-ish 12.859 | POD BCE 0.060\n",
      "Epoch 21 | ETA MAE-ish 12.922 | POD BCE 0.060\n",
      "Epoch 22 | ETA MAE-ish 12.936 | POD BCE 0.055\n",
      "Epoch 23 | ETA MAE-ish 12.969 | POD BCE 0.058\n",
      "Epoch 24 | ETA MAE-ish 12.953 | POD BCE 0.056\n",
      "Epoch 25 | ETA MAE-ish 12.939 | POD BCE 0.056\n",
      "Epoch 26 | ETA MAE-ish 13.011 | POD BCE 0.054\n",
      "Epoch 27 | ETA MAE-ish 12.925 | POD BCE 0.049\n",
      "Epoch 28 | ETA MAE-ish 12.959 | POD BCE 0.055\n",
      "Epoch 29 | ETA MAE-ish 12.888 | POD BCE 0.052\n"
     ]
    }
   ],
   "source": [
    "for epoch in range(1, 30):\n",
    "    eta_loss, eta_loss_history = train_epoch(eta_model, train_eta_loader, opt_eta, True)\n",
    "    pod_loss, pod_loss_history = train_epoch(pod_model, train_pod_loader, opt_pod, False)\n",
    "    print(f\"Epoch {epoch:02d} | ETA MAE-ish {eta_loss:.3f} | POD BCE {pod_loss:.3f}\")"
   ]
  },
  {
   "cell_type": "code",
   "execution_count": 54,
   "id": "938b18b1",
   "metadata": {},
   "outputs": [
    {
     "data": {
      "image/png": "[encoded data removed]",
      "text/plain": [
       "<Figure size 640x480 with 1 Axes>"
      ]
     },
     "metadata": {},
     "output_type": "display_data"
    }
   ],
   "source": [
    "import matplotlib.pyplot as plt\n",
    "plt.plot(eta_loss_history);# plt.plot(pod_loss_history)"
   ]
  },
  {
   "cell_type": "code",
   "execution_count": 55,
   "id": "31b88fc7",
   "metadata": {},
   "outputs": [
    {
     "data": {
      "image/png": "[encoded data removed]",
      "text/plain": [
       "<Figure size 640x480 with 1 Axes>"
      ]
     },
     "metadata": {},
     "output_type": "display_data"
    }
   ],
   "source": [
    "plt.plot(pod_loss_history);"
   ]
  },
  {
   "cell_type": "code",
   "execution_count": null,
   "id": "03ec3249",
   "metadata": {},
   "outputs": [
    {
     "name": "stdout",
     "output_type": "stream",
     "text": [
      "ETA MAE (val): 24.087116241455078\n",
      "POD ACC (val): 0.949999988079071\n"
     ]
    }
   ],
   "source": [
    "# 7.  Validation & inference# -----------------------------------------------------------\n",
    "@torch.no_grad()\n",
    "def evaluate(model, loader, is_regression):\n",
    "    model.eval()\n",
    "    outs, ys = [], []\n",
    "    for tf_batch in loader:\n",
    "        outs.append(model(tf_batch).cpu())\n",
    "        ys.append(tf_batch.y.float().cpu())\n",
    "    pred = torch.cat(outs).squeeze()\n",
    "    y    = torch.cat(ys).squeeze()\n",
    "    if is_regression:\n",
    "        return torch.mean(torch.abs(pred - y)).item()      # MAE\n",
    "    else:\n",
    "        prob = torch.sigmoid(pred)\n",
    "        acc  = ((prob > 0.5) == y.bool()).float().mean()\n",
    "        return acc.item()\n",
    "\n",
    "print(\"ETA MAE (val):\", evaluate(eta_model, val_eta_loader, True))\n",
    "print(\"POD ACC (val):\", evaluate(pod_model, val_pod_loader, False))"
   ]
  }
 ],
 "metadata": {
  "kernelspec": {
   "display_name": ".venv",
   "language": "python",
   "name": "python3"
  },
  "language_info": {
   "codemirror_mode": {
    "name": "ipython",
    "version": 3
   },
   "file_extension": ".py",
   "mimetype": "text/x-python",
   "name": "python",
   "nbconvert_exporter": "python",
   "pygments_lexer": "ipython3",
   "version": "3.12.11"
  }
 },
 "nbformat": 4,
 "nbformat_minor": 5
}
